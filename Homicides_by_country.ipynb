{
 "cells": [
  {
   "cell_type": "markdown",
   "id": "42d8a553-3edb-4bb6-abda-f26228b932ce",
   "metadata": {},
   "source": [
    "# Homicide Rate by Country\n",
    "This project aims to make a report on the homicide rate in different countries, how various factors influence it and its behaviour over time: \n",
    "* Which are the countries with the highest number of homicides?\n",
    "* What is the number of homicides per continent?\n",
    "* What is the number of homicides by subregion?\n",
    "* Number of homicides by subregion (Americas & Europe) and year.\n",
    "* What is the sum of the homicide rates per year?\n",
    "* Sum of homicides by country and year.\n",
    "* Homicide count by subregion.\n"
   ]
  },
  {
   "cell_type": "markdown",
   "id": "57ef7d75-38d5-4d22-88de-d8f7ac0af223",
   "metadata": {},
   "source": [
    "#### Import Libraries that Required for doing Analysis\n"
   ]
  },
  {
   "cell_type": "code",
   "execution_count": 1,
   "id": "26cd5283-8d58-4255-bdfd-04b0d865b292",
   "metadata": {},
   "outputs": [],
   "source": [
    "import pandas as pd\n",
    "import matplotlib.pyplot as plt\n",
    "import seaborn as sns"
   ]
  },
  {
   "cell_type": "markdown",
   "id": "87930d92-1fa9-4cee-8185-89eb225830b1",
   "metadata": {},
   "source": [
    "#### Load The Data For analysis"
   ]
  },
  {
   "cell_type": "code",
   "execution_count": 3,
   "id": "04b04e3d-bfa8-48f7-b83a-4f3163369ed7",
   "metadata": {},
   "outputs": [
    {
     "data": {
      "text/html": [
       "<div>\n",
       "<style scoped>\n",
       "    .dataframe tbody tr th:only-of-type {\n",
       "        vertical-align: middle;\n",
       "    }\n",
       "\n",
       "    .dataframe tbody tr th {\n",
       "        vertical-align: top;\n",
       "    }\n",
       "\n",
       "    .dataframe thead th {\n",
       "        text-align: right;\n",
       "    }\n",
       "</style>\n",
       "<table border=\"1\" class=\"dataframe\">\n",
       "  <thead>\n",
       "    <tr style=\"text-align: right;\">\n",
       "      <th></th>\n",
       "      <th>Location</th>\n",
       "      <th>Region</th>\n",
       "      <th>Subregion</th>\n",
       "      <th>Rate</th>\n",
       "      <th>Count</th>\n",
       "      <th>Year</th>\n",
       "    </tr>\n",
       "  </thead>\n",
       "  <tbody>\n",
       "    <tr>\n",
       "      <th>0</th>\n",
       "      <td>Afghanistan</td>\n",
       "      <td>Asia</td>\n",
       "      <td>Southern Asia</td>\n",
       "      <td>6.7</td>\n",
       "      <td>2474</td>\n",
       "      <td>2018</td>\n",
       "    </tr>\n",
       "    <tr>\n",
       "      <th>1</th>\n",
       "      <td>Albania</td>\n",
       "      <td>Europe</td>\n",
       "      <td>Southern Europe</td>\n",
       "      <td>2.1</td>\n",
       "      <td>61</td>\n",
       "      <td>2020</td>\n",
       "    </tr>\n",
       "    <tr>\n",
       "      <th>2</th>\n",
       "      <td>Algeria</td>\n",
       "      <td>Africa</td>\n",
       "      <td>Northern Africa</td>\n",
       "      <td>1.3</td>\n",
       "      <td>580</td>\n",
       "      <td>2020</td>\n",
       "    </tr>\n",
       "    <tr>\n",
       "      <th>3</th>\n",
       "      <td>Andorra</td>\n",
       "      <td>Europe</td>\n",
       "      <td>Southern Europe</td>\n",
       "      <td>2.6</td>\n",
       "      <td>2</td>\n",
       "      <td>2020</td>\n",
       "    </tr>\n",
       "    <tr>\n",
       "      <th>4</th>\n",
       "      <td>Angola</td>\n",
       "      <td>Africa</td>\n",
       "      <td>Middle Africa</td>\n",
       "      <td>4.8</td>\n",
       "      <td>1217</td>\n",
       "      <td>2012</td>\n",
       "    </tr>\n",
       "  </tbody>\n",
       "</table>\n",
       "</div>"
      ],
      "text/plain": [
       "      Location  Region        Subregion  Rate  Count  Year\n",
       "0  Afghanistan    Asia    Southern Asia   6.7   2474  2018\n",
       "1      Albania  Europe  Southern Europe   2.1     61  2020\n",
       "2      Algeria  Africa  Northern Africa   1.3    580  2020\n",
       "3      Andorra  Europe  Southern Europe   2.6      2  2020\n",
       "4       Angola  Africa    Middle Africa   4.8   1217  2012"
      ]
     },
     "execution_count": 3,
     "metadata": {},
     "output_type": "execute_result"
    }
   ],
   "source": [
    "df = pd.read_csv(\"homicide_by_countries.csv\")\n",
    "df.head()"
   ]
  },
  {
   "cell_type": "code",
   "execution_count": 5,
   "id": "35f82740-b7b9-45a4-a83a-113dde4a7aca",
   "metadata": {},
   "outputs": [
    {
     "data": {
      "text/plain": [
       "(195, 6)"
      ]
     },
     "execution_count": 5,
     "metadata": {},
     "output_type": "execute_result"
    }
   ],
   "source": [
    "df.shape"
   ]
  },
  {
   "cell_type": "code",
   "execution_count": 7,
   "id": "04f1266b-ae72-49ed-864c-8c019c66b525",
   "metadata": {},
   "outputs": [
    {
     "name": "stdout",
     "output_type": "stream",
     "text": [
      "<class 'pandas.core.frame.DataFrame'>\n",
      "RangeIndex: 195 entries, 0 to 194\n",
      "Data columns (total 6 columns):\n",
      " #   Column     Non-Null Count  Dtype  \n",
      "---  ------     --------------  -----  \n",
      " 0   Location   195 non-null    object \n",
      " 1   Region     195 non-null    object \n",
      " 2   Subregion  195 non-null    object \n",
      " 3   Rate       195 non-null    float64\n",
      " 4   Count      195 non-null    int64  \n",
      " 5   Year       195 non-null    int64  \n",
      "dtypes: float64(1), int64(2), object(3)\n",
      "memory usage: 9.3+ KB\n"
     ]
    }
   ],
   "source": [
    "df.info()"
   ]
  },
  {
   "cell_type": "code",
   "execution_count": 9,
   "id": "d849b2a5-39ee-4a6b-95f3-d5ad545e414e",
   "metadata": {},
   "outputs": [
    {
     "data": {
      "text/plain": [
       "Location     0\n",
       "Region       0\n",
       "Subregion    0\n",
       "Rate         0\n",
       "Count        0\n",
       "Year         0\n",
       "dtype: int64"
      ]
     },
     "execution_count": 9,
     "metadata": {},
     "output_type": "execute_result"
    }
   ],
   "source": [
    "df.isnull().sum()\n",
    "\n",
    "# df.dropna(inplace=True)\n",
    "# df.dropna(subset = [\"column_name\"], inplace = True)"
   ]
  },
  {
   "cell_type": "code",
   "execution_count": 11,
   "id": "4eb5d35b-21f3-434e-aa7a-cf0bb41b6fc6",
   "metadata": {},
   "outputs": [
    {
     "data": {
      "text/plain": [
       "Location      object\n",
       "Region        object\n",
       "Subregion     object\n",
       "Rate         float64\n",
       "Count          int64\n",
       "Year           int64\n",
       "dtype: object"
      ]
     },
     "execution_count": 11,
     "metadata": {},
     "output_type": "execute_result"
    }
   ],
   "source": [
    "df.dtypes"
   ]
  },
  {
   "cell_type": "code",
   "execution_count": 13,
   "id": "33a96082-4fa2-4791-83d9-7610900d087e",
   "metadata": {},
   "outputs": [],
   "source": [
    "df[\"Rate\"] = df[\"Rate\"].astype(int)"
   ]
  },
  {
   "cell_type": "code",
   "execution_count": 15,
   "id": "800f828c-a089-4318-ac7f-3d5aca7a669d",
   "metadata": {},
   "outputs": [
    {
     "data": {
      "text/plain": [
       "Location     object\n",
       "Region       object\n",
       "Subregion    object\n",
       "Rate          int32\n",
       "Count         int64\n",
       "Year          int64\n",
       "dtype: object"
      ]
     },
     "execution_count": 15,
     "metadata": {},
     "output_type": "execute_result"
    }
   ],
   "source": [
    "df.dtypes"
   ]
  },
  {
   "cell_type": "code",
   "execution_count": 17,
   "id": "b4bd60dc-c8d1-4e96-b6b8-bbf8aa2c1ea7",
   "metadata": {},
   "outputs": [
    {
     "name": "stdout",
     "output_type": "stream",
     "text": [
      "Year\n",
      "Count\n",
      "Rate\n"
     ]
    }
   ],
   "source": [
    "mylist = {\"Rate\", \"Count\", \"Year\"}\n",
    "for i in  mylist:\n",
    "    print(i)\n",
    "    df[i] = df[i].astype('int') "
   ]
  },
  {
   "cell_type": "code",
   "execution_count": 19,
   "id": "6ce90710-7a9e-4619-9403-db987d9ee9e4",
   "metadata": {},
   "outputs": [
    {
     "data": {
      "text/plain": [
       "Location     object\n",
       "Region       object\n",
       "Subregion    object\n",
       "Rate          int32\n",
       "Count         int32\n",
       "Year          int32\n",
       "dtype: object"
      ]
     },
     "execution_count": 19,
     "metadata": {},
     "output_type": "execute_result"
    }
   ],
   "source": [
    "df.dtypes"
   ]
  },
  {
   "cell_type": "code",
   "execution_count": 21,
   "id": "848fab84-1e10-473e-bd8f-4b3e9746db8a",
   "metadata": {},
   "outputs": [
    {
     "data": {
      "text/plain": [
       "array(['Asia', 'Europe', 'Africa', 'Americas', 'Oceania'], dtype=object)"
      ]
     },
     "execution_count": 21,
     "metadata": {},
     "output_type": "execute_result"
    }
   ],
   "source": [
    "df[\"Region\"].unique()"
   ]
  },
  {
   "cell_type": "code",
   "execution_count": 23,
   "id": "5c040024-98a7-4595-a22a-63da9d5888c8",
   "metadata": {},
   "outputs": [
    {
     "data": {
      "text/plain": [
       "array(['Asia', 'Europe', 'Africa', 'N/S America', 'Oceania'], dtype=object)"
      ]
     },
     "execution_count": 23,
     "metadata": {},
     "output_type": "execute_result"
    }
   ],
   "source": [
    "df[\"Region\"]= df[\"Region\"].replace(\"Americas\", \"N/S America\")\n",
    "df[\"Region\"].unique()"
   ]
  },
  {
   "cell_type": "code",
   "execution_count": 27,
   "id": "cd1e6407-1e31-4d6b-9849-ce263abe82dc",
   "metadata": {},
   "outputs": [
    {
     "data": {
      "text/html": [
       "<div>\n",
       "<style scoped>\n",
       "    .dataframe tbody tr th:only-of-type {\n",
       "        vertical-align: middle;\n",
       "    }\n",
       "\n",
       "    .dataframe tbody tr th {\n",
       "        vertical-align: top;\n",
       "    }\n",
       "\n",
       "    .dataframe thead th {\n",
       "        text-align: right;\n",
       "    }\n",
       "</style>\n",
       "<table border=\"1\" class=\"dataframe\">\n",
       "  <thead>\n",
       "    <tr style=\"text-align: right;\">\n",
       "      <th></th>\n",
       "      <th>Location</th>\n",
       "      <th>Region</th>\n",
       "      <th>Subregion</th>\n",
       "      <th>Rate</th>\n",
       "      <th>Count</th>\n",
       "      <th>Year</th>\n",
       "    </tr>\n",
       "  </thead>\n",
       "  <tbody>\n",
       "    <tr>\n",
       "      <th>count</th>\n",
       "      <td>195</td>\n",
       "      <td>195</td>\n",
       "      <td>195</td>\n",
       "      <td>195.000000</td>\n",
       "      <td>195.000000</td>\n",
       "      <td>195.000000</td>\n",
       "    </tr>\n",
       "    <tr>\n",
       "      <th>unique</th>\n",
       "      <td>195</td>\n",
       "      <td>5</td>\n",
       "      <td>19</td>\n",
       "      <td>NaN</td>\n",
       "      <td>NaN</td>\n",
       "      <td>NaN</td>\n",
       "    </tr>\n",
       "    <tr>\n",
       "      <th>top</th>\n",
       "      <td>Afghanistan</td>\n",
       "      <td>Asia</td>\n",
       "      <td>Caribbean</td>\n",
       "      <td>NaN</td>\n",
       "      <td>NaN</td>\n",
       "      <td>NaN</td>\n",
       "    </tr>\n",
       "    <tr>\n",
       "      <th>freq</th>\n",
       "      <td>1</td>\n",
       "      <td>51</td>\n",
       "      <td>25</td>\n",
       "      <td>NaN</td>\n",
       "      <td>NaN</td>\n",
       "      <td>NaN</td>\n",
       "    </tr>\n",
       "    <tr>\n",
       "      <th>mean</th>\n",
       "      <td>NaN</td>\n",
       "      <td>NaN</td>\n",
       "      <td>NaN</td>\n",
       "      <td>6.410256</td>\n",
       "      <td>1942.800000</td>\n",
       "      <td>2017.420513</td>\n",
       "    </tr>\n",
       "    <tr>\n",
       "      <th>std</th>\n",
       "      <td>NaN</td>\n",
       "      <td>NaN</td>\n",
       "      <td>NaN</td>\n",
       "      <td>9.591443</td>\n",
       "      <td>6553.343376</td>\n",
       "      <td>3.589445</td>\n",
       "    </tr>\n",
       "    <tr>\n",
       "      <th>min</th>\n",
       "      <td>NaN</td>\n",
       "      <td>NaN</td>\n",
       "      <td>NaN</td>\n",
       "      <td>0.000000</td>\n",
       "      <td>0.000000</td>\n",
       "      <td>2006.000000</td>\n",
       "    </tr>\n",
       "    <tr>\n",
       "      <th>25%</th>\n",
       "      <td>NaN</td>\n",
       "      <td>NaN</td>\n",
       "      <td>NaN</td>\n",
       "      <td>1.000000</td>\n",
       "      <td>28.000000</td>\n",
       "      <td>2016.000000</td>\n",
       "    </tr>\n",
       "    <tr>\n",
       "      <th>50%</th>\n",
       "      <td>NaN</td>\n",
       "      <td>NaN</td>\n",
       "      <td>NaN</td>\n",
       "      <td>2.000000</td>\n",
       "      <td>128.000000</td>\n",
       "      <td>2019.000000</td>\n",
       "    </tr>\n",
       "    <tr>\n",
       "      <th>75%</th>\n",
       "      <td>NaN</td>\n",
       "      <td>NaN</td>\n",
       "      <td>NaN</td>\n",
       "      <td>7.000000</td>\n",
       "      <td>785.000000</td>\n",
       "      <td>2020.000000</td>\n",
       "    </tr>\n",
       "    <tr>\n",
       "      <th>max</th>\n",
       "      <td>NaN</td>\n",
       "      <td>NaN</td>\n",
       "      <td>NaN</td>\n",
       "      <td>49.000000</td>\n",
       "      <td>47722.000000</td>\n",
       "      <td>2021.000000</td>\n",
       "    </tr>\n",
       "  </tbody>\n",
       "</table>\n",
       "</div>"
      ],
      "text/plain": [
       "           Location Region  Subregion        Rate         Count         Year\n",
       "count           195    195        195  195.000000    195.000000   195.000000\n",
       "unique          195      5         19         NaN           NaN          NaN\n",
       "top     Afghanistan   Asia  Caribbean         NaN           NaN          NaN\n",
       "freq              1     51         25         NaN           NaN          NaN\n",
       "mean            NaN    NaN        NaN    6.410256   1942.800000  2017.420513\n",
       "std             NaN    NaN        NaN    9.591443   6553.343376     3.589445\n",
       "min             NaN    NaN        NaN    0.000000      0.000000  2006.000000\n",
       "25%             NaN    NaN        NaN    1.000000     28.000000  2016.000000\n",
       "50%             NaN    NaN        NaN    2.000000    128.000000  2019.000000\n",
       "75%             NaN    NaN        NaN    7.000000    785.000000  2020.000000\n",
       "max             NaN    NaN        NaN   49.000000  47722.000000  2021.000000"
      ]
     },
     "execution_count": 27,
     "metadata": {},
     "output_type": "execute_result"
    }
   ],
   "source": [
    "df.describe(include=\"all\")"
   ]
  },
  {
   "cell_type": "markdown",
   "id": "ad3960a7-a41d-4894-bd86-2aef89440d36",
   "metadata": {},
   "source": [
    "#### Which are the countries with the highest number of homicides?"
   ]
  },
  {
   "cell_type": "markdown",
   "id": "6844e43e-cd79-4e06-aeac-0abd053034ae",
   "metadata": {},
   "source": [
    "##### for reseting index\n",
    "df1 = df.sort_values(\"Count\", ascending = False).reset_index(drop = True)\n"
   ]
  },
  {
   "cell_type": "code",
   "execution_count": 31,
   "id": "91a5d7b6-ff0f-4c21-9c1f-20c93a6124b9",
   "metadata": {},
   "outputs": [
    {
     "data": {
      "text/html": [
       "<div>\n",
       "<style scoped>\n",
       "    .dataframe tbody tr th:only-of-type {\n",
       "        vertical-align: middle;\n",
       "    }\n",
       "\n",
       "    .dataframe tbody tr th {\n",
       "        vertical-align: top;\n",
       "    }\n",
       "\n",
       "    .dataframe thead th {\n",
       "        text-align: right;\n",
       "    }\n",
       "</style>\n",
       "<table border=\"1\" class=\"dataframe\">\n",
       "  <thead>\n",
       "    <tr style=\"text-align: right;\">\n",
       "      <th></th>\n",
       "      <th>Location</th>\n",
       "      <th>Region</th>\n",
       "      <th>Subregion</th>\n",
       "      <th>Rate</th>\n",
       "      <th>Count</th>\n",
       "      <th>Year</th>\n",
       "    </tr>\n",
       "  </thead>\n",
       "  <tbody>\n",
       "    <tr>\n",
       "      <th>26</th>\n",
       "      <td>Brazil</td>\n",
       "      <td>N/S America</td>\n",
       "      <td>South America</td>\n",
       "      <td>22</td>\n",
       "      <td>47722</td>\n",
       "      <td>2020</td>\n",
       "    </tr>\n",
       "    <tr>\n",
       "      <th>125</th>\n",
       "      <td>Nigeria</td>\n",
       "      <td>Africa</td>\n",
       "      <td>Western Africa</td>\n",
       "      <td>22</td>\n",
       "      <td>44200</td>\n",
       "      <td>2019</td>\n",
       "    </tr>\n",
       "    <tr>\n",
       "      <th>78</th>\n",
       "      <td>India</td>\n",
       "      <td>Asia</td>\n",
       "      <td>Southern Asia</td>\n",
       "      <td>3</td>\n",
       "      <td>40651</td>\n",
       "      <td>2020</td>\n",
       "    </tr>\n",
       "    <tr>\n",
       "      <th>111</th>\n",
       "      <td>Mexico</td>\n",
       "      <td>N/S America</td>\n",
       "      <td>Central America</td>\n",
       "      <td>28</td>\n",
       "      <td>36579</td>\n",
       "      <td>2020</td>\n",
       "    </tr>\n",
       "    <tr>\n",
       "      <th>186</th>\n",
       "      <td>United States</td>\n",
       "      <td>N/S America</td>\n",
       "      <td>Northern America</td>\n",
       "      <td>6</td>\n",
       "      <td>21570</td>\n",
       "      <td>2020</td>\n",
       "    </tr>\n",
       "    <tr>\n",
       "      <th>...</th>\n",
       "      <td>...</td>\n",
       "      <td>...</td>\n",
       "      <td>...</td>\n",
       "      <td>...</td>\n",
       "      <td>...</td>\n",
       "      <td>...</td>\n",
       "    </tr>\n",
       "    <tr>\n",
       "      <th>73</th>\n",
       "      <td>Holy See</td>\n",
       "      <td>Europe</td>\n",
       "      <td>Southern Europe</td>\n",
       "      <td>0</td>\n",
       "      <td>0</td>\n",
       "      <td>2015</td>\n",
       "    </tr>\n",
       "    <tr>\n",
       "      <th>38</th>\n",
       "      <td>Channel Islands</td>\n",
       "      <td>Europe</td>\n",
       "      <td>Northern Europe</td>\n",
       "      <td>0</td>\n",
       "      <td>0</td>\n",
       "      <td>2010</td>\n",
       "    </tr>\n",
       "    <tr>\n",
       "      <th>145</th>\n",
       "      <td>Saint Helena</td>\n",
       "      <td>Africa</td>\n",
       "      <td>Western Africa</td>\n",
       "      <td>0</td>\n",
       "      <td>0</td>\n",
       "      <td>2009</td>\n",
       "    </tr>\n",
       "    <tr>\n",
       "      <th>151</th>\n",
       "      <td>San Marino</td>\n",
       "      <td>Europe</td>\n",
       "      <td>Southern Europe</td>\n",
       "      <td>0</td>\n",
       "      <td>0</td>\n",
       "      <td>2011</td>\n",
       "    </tr>\n",
       "    <tr>\n",
       "      <th>21</th>\n",
       "      <td>Bermuda</td>\n",
       "      <td>N/S America</td>\n",
       "      <td>Northern America</td>\n",
       "      <td>0</td>\n",
       "      <td>0</td>\n",
       "      <td>2019</td>\n",
       "    </tr>\n",
       "  </tbody>\n",
       "</table>\n",
       "<p>195 rows × 6 columns</p>\n",
       "</div>"
      ],
      "text/plain": [
       "            Location       Region         Subregion  Rate  Count  Year\n",
       "26            Brazil  N/S America     South America    22  47722  2020\n",
       "125          Nigeria       Africa    Western Africa    22  44200  2019\n",
       "78             India         Asia     Southern Asia     3  40651  2020\n",
       "111           Mexico  N/S America   Central America    28  36579  2020\n",
       "186    United States  N/S America  Northern America     6  21570  2020\n",
       "..               ...          ...               ...   ...    ...   ...\n",
       "73          Holy See       Europe   Southern Europe     0      0  2015\n",
       "38   Channel Islands       Europe   Northern Europe     0      0  2010\n",
       "145     Saint Helena       Africa    Western Africa     0      0  2009\n",
       "151       San Marino       Europe   Southern Europe     0      0  2011\n",
       "21           Bermuda  N/S America  Northern America     0      0  2019\n",
       "\n",
       "[195 rows x 6 columns]"
      ]
     },
     "execution_count": 31,
     "metadata": {},
     "output_type": "execute_result"
    }
   ],
   "source": [
    "df.sort_values(\"Count\", ascending = False)"
   ]
  },
  {
   "cell_type": "code",
   "execution_count": 35,
   "id": "2c94804c-ae1b-42c6-af89-f6b5e28dc5ef",
   "metadata": {},
   "outputs": [
    {
     "data": {
      "text/html": [
       "<div>\n",
       "<style scoped>\n",
       "    .dataframe tbody tr th:only-of-type {\n",
       "        vertical-align: middle;\n",
       "    }\n",
       "\n",
       "    .dataframe tbody tr th {\n",
       "        vertical-align: top;\n",
       "    }\n",
       "\n",
       "    .dataframe thead th {\n",
       "        text-align: right;\n",
       "    }\n",
       "</style>\n",
       "<table border=\"1\" class=\"dataframe\">\n",
       "  <thead>\n",
       "    <tr style=\"text-align: right;\">\n",
       "      <th></th>\n",
       "      <th>Location</th>\n",
       "      <th>Count</th>\n",
       "    </tr>\n",
       "  </thead>\n",
       "  <tbody>\n",
       "    <tr>\n",
       "      <th>0</th>\n",
       "      <td>Afghanistan</td>\n",
       "      <td>2474</td>\n",
       "    </tr>\n",
       "    <tr>\n",
       "      <th>1</th>\n",
       "      <td>Albania</td>\n",
       "      <td>61</td>\n",
       "    </tr>\n",
       "    <tr>\n",
       "      <th>2</th>\n",
       "      <td>Algeria</td>\n",
       "      <td>580</td>\n",
       "    </tr>\n",
       "    <tr>\n",
       "      <th>3</th>\n",
       "      <td>Andorra</td>\n",
       "      <td>2</td>\n",
       "    </tr>\n",
       "    <tr>\n",
       "      <th>4</th>\n",
       "      <td>Angola</td>\n",
       "      <td>1217</td>\n",
       "    </tr>\n",
       "    <tr>\n",
       "      <th>...</th>\n",
       "      <td>...</td>\n",
       "      <td>...</td>\n",
       "    </tr>\n",
       "    <tr>\n",
       "      <th>190</th>\n",
       "      <td>Venezuela</td>\n",
       "      <td>10598</td>\n",
       "    </tr>\n",
       "    <tr>\n",
       "      <th>191</th>\n",
       "      <td>Vietnam</td>\n",
       "      <td>1358</td>\n",
       "    </tr>\n",
       "    <tr>\n",
       "      <th>192</th>\n",
       "      <td>Yemen</td>\n",
       "      <td>1703</td>\n",
       "    </tr>\n",
       "    <tr>\n",
       "      <th>193</th>\n",
       "      <td>Zambia</td>\n",
       "      <td>853</td>\n",
       "    </tr>\n",
       "    <tr>\n",
       "      <th>194</th>\n",
       "      <td>Zimbabwe</td>\n",
       "      <td>981</td>\n",
       "    </tr>\n",
       "  </tbody>\n",
       "</table>\n",
       "<p>195 rows × 2 columns</p>\n",
       "</div>"
      ],
      "text/plain": [
       "        Location  Count\n",
       "0    Afghanistan   2474\n",
       "1        Albania     61\n",
       "2        Algeria    580\n",
       "3        Andorra      2\n",
       "4         Angola   1217\n",
       "..           ...    ...\n",
       "190    Venezuela  10598\n",
       "191      Vietnam   1358\n",
       "192        Yemen   1703\n",
       "193       Zambia    853\n",
       "194     Zimbabwe    981\n",
       "\n",
       "[195 rows x 2 columns]"
      ]
     },
     "execution_count": 35,
     "metadata": {},
     "output_type": "execute_result"
    }
   ],
   "source": [
    "df[[\"Location\", \"Count\"]]"
   ]
  },
  {
   "cell_type": "code",
   "execution_count": 37,
   "id": "ea094df2-ba29-4b81-a21e-2550492630fd",
   "metadata": {},
   "outputs": [
    {
     "data": {
      "text/html": [
       "<div>\n",
       "<style scoped>\n",
       "    .dataframe tbody tr th:only-of-type {\n",
       "        vertical-align: middle;\n",
       "    }\n",
       "\n",
       "    .dataframe tbody tr th {\n",
       "        vertical-align: top;\n",
       "    }\n",
       "\n",
       "    .dataframe thead th {\n",
       "        text-align: right;\n",
       "    }\n",
       "</style>\n",
       "<table border=\"1\" class=\"dataframe\">\n",
       "  <thead>\n",
       "    <tr style=\"text-align: right;\">\n",
       "      <th></th>\n",
       "      <th>Location</th>\n",
       "      <th>Count</th>\n",
       "      <th>Percent</th>\n",
       "    </tr>\n",
       "  </thead>\n",
       "  <tbody>\n",
       "    <tr>\n",
       "      <th>26</th>\n",
       "      <td>Brazil</td>\n",
       "      <td>47722</td>\n",
       "      <td>25.02</td>\n",
       "    </tr>\n",
       "    <tr>\n",
       "      <th>125</th>\n",
       "      <td>Nigeria</td>\n",
       "      <td>44200</td>\n",
       "      <td>23.18</td>\n",
       "    </tr>\n",
       "    <tr>\n",
       "      <th>78</th>\n",
       "      <td>India</td>\n",
       "      <td>40651</td>\n",
       "      <td>21.31</td>\n",
       "    </tr>\n",
       "    <tr>\n",
       "      <th>111</th>\n",
       "      <td>Mexico</td>\n",
       "      <td>36579</td>\n",
       "      <td>19.18</td>\n",
       "    </tr>\n",
       "    <tr>\n",
       "      <th>186</th>\n",
       "      <td>United States</td>\n",
       "      <td>21570</td>\n",
       "      <td>11.31</td>\n",
       "    </tr>\n",
       "  </tbody>\n",
       "</table>\n",
       "</div>"
      ],
      "text/plain": [
       "          Location  Count  Percent\n",
       "26          Brazil  47722    25.02\n",
       "125        Nigeria  44200    23.18\n",
       "78           India  40651    21.31\n",
       "111         Mexico  36579    19.18\n",
       "186  United States  21570    11.31"
      ]
     },
     "execution_count": 37,
     "metadata": {},
     "output_type": "execute_result"
    }
   ],
   "source": [
    "# Creating a DataFrame Of Top Five Countries of migrants as per count\n",
    "df1 = df[[\"Location\", \"Count\"]].sort_values(by = \"Count\", ascending = False).head(5)\n",
    "# create percentage column for df1 \n",
    "df1[\"Percent\"] = (df1[\"Count\"] * 100 / df1[\"Count\"].sum()).round(2)\n",
    "df1"
   ]
  },
  {
   "cell_type": "code",
   "execution_count": 39,
   "id": "10bb6cac-5214-4b4e-a4c3-1f50ed0d382e",
   "metadata": {},
   "outputs": [
    {
     "data": {
      "text/plain": [
       "<Axes: ylabel='Count'>"
      ]
     },
     "execution_count": 39,
     "metadata": {},
     "output_type": "execute_result"
    },
    {
     "data": {
      "image/png": "[encoded data removed]",
      "text/plain": [
       "<Figure size 640x480 with 1 Axes>"
      ]
     },
     "metadata": {},
     "output_type": "display_data"
    }
   ],
   "source": [
    "df1.plot(x=\"Location\", y=\"Count\", kind=\"pie\")"
   ]
  },
  {
   "cell_type": "code",
   "execution_count": 32,
   "id": "cd04529f-1139-4d66-8349-14dfb27c1a0c",
   "metadata": {},
   "outputs": [
    {
     "data": {
      "image/png": "[encoded data removed]",
      "text/plain": [
       "<Figure size 640x480 with 1 Axes>"
      ]
     },
     "metadata": {},
     "output_type": "display_data"
    }
   ],
   "source": [
    "df1.plot(x=\"Location\", y=\"Count\", kind=\"pie\", labels = df1.Location, autopct=\"%0.2f%%\")\n",
    "plt.legend().set_visible(False)"
   ]
  },
  {
   "cell_type": "markdown",
   "id": "d40c2ccf-d56b-4c4b-9b8e-ed170829e99a",
   "metadata": {},
   "source": [
    "#### What is the number of homicides per continent?"
   ]
  },
  {
   "cell_type": "code",
   "execution_count": 43,
   "id": "42aebe01-e087-4521-a505-0d492b8315f0",
   "metadata": {},
   "outputs": [
    {
     "data": {
      "text/plain": [
       "Region\n",
       "N/S America    153597\n",
       "Asia           105552\n",
       "Africa          99481\n",
       "Europe          19869\n",
       "Oceania           347\n",
       "Name: Count, dtype: int32"
      ]
     },
     "execution_count": 43,
     "metadata": {},
     "output_type": "execute_result"
    }
   ],
   "source": [
    "df2 = df.groupby(\"Region\")[\"Count\"].sum().sort_values(ascending = False)\n",
    "df2"
   ]
  },
  {
   "cell_type": "code",
   "execution_count": 45,
   "id": "28c375d5-9532-40d9-b61d-71579dffc82b",
   "metadata": {},
   "outputs": [
    {
     "data": {
      "image/png": "[encoded data removed]",
      "text/plain": [
       "<Figure size 640x480 with 1 Axes>"
      ]
     },
     "metadata": {},
     "output_type": "display_data"
    }
   ],
   "source": [
    "df2.plot(kind = \"bar\", color=\"orchid\")\n",
    "plt.show()"
   ]
  },
  {
   "cell_type": "markdown",
   "id": "3f377f11-3051-4f9d-8ad9-51d005e7025c",
   "metadata": {},
   "source": [
    "#### What is the number of homicides by subregion?"
   ]
  },
  {
   "cell_type": "code",
   "execution_count": 47,
   "id": "9bc390ce-8607-4bfa-bda4-6a93a14fa1d7",
   "metadata": {},
   "outputs": [
    {
     "data": {
      "text/plain": [
       "Subregion\n",
       "South America             78872\n",
       "Southern Asia             58631\n",
       "Central America           47371\n",
       "Western Africa            46318\n",
       "South-Eastern Asia        25314\n",
       "Eastern Africa            23669\n",
       "Northern America          22317\n",
       "Southern Africa           21479\n",
       "Eastern Europe            14604\n",
       "Western Asia              11638\n",
       "Eastern Asia               8563\n",
       "Northern Africa            5538\n",
       "Caribbean                  5037\n",
       "Middle Africa              2477\n",
       "Northern Europe            2097\n",
       "Western Europe             2075\n",
       "Central Asia               1406\n",
       "Southern Europe            1093\n",
       "Australia, New Zealand      347\n",
       "Name: Count, dtype: int32"
      ]
     },
     "execution_count": 47,
     "metadata": {},
     "output_type": "execute_result"
    }
   ],
   "source": [
    "df3 = df.groupby(\"Subregion\")[\"Count\"].sum().sort_values(ascending = False)\n",
    "df3"
   ]
  },
  {
   "cell_type": "code",
   "execution_count": 43,
   "id": "a1014939-a908-45e6-9298-c5c4f975e72f",
   "metadata": {},
   "outputs": [
    {
     "data": {
      "text/plain": [
       "Index(['South America', 'Southern Asia', 'Central America', 'Western Africa',\n",
       "       'South-Eastern Asia', 'Eastern Africa', 'Northern America',\n",
       "       'Southern Africa', 'Eastern Europe', 'Western Asia', 'Eastern Asia',\n",
       "       'Northern Africa', 'Caribbean', 'Middle Africa', 'Northern Europe',\n",
       "       'Western Europe', 'Central Asia', 'Southern Europe',\n",
       "       'Australia, New Zealand'],\n",
       "      dtype='object', name='Subregion')"
      ]
     },
     "execution_count": 43,
     "metadata": {},
     "output_type": "execute_result"
    }
   ],
   "source": [
    "df3.index"
   ]
  },
  {
   "cell_type": "code",
   "execution_count": 46,
   "id": "7d4d186b-0735-493d-94b8-cfbee7908dff",
   "metadata": {},
   "outputs": [
    {
     "data": {
      "text/plain": [
       "array([78872, 58631, 47371, 46318, 25314, 23669, 22317, 21479, 14604,\n",
       "       11638,  8563,  5538,  5037,  2477,  2097,  2075,  1406,  1093,\n",
       "         347])"
      ]
     },
     "execution_count": 46,
     "metadata": {},
     "output_type": "execute_result"
    }
   ],
   "source": [
    "df3.values"
   ]
  },
  {
   "cell_type": "code",
   "execution_count": 57,
   "id": "d97ac44a-c161-448e-8d55-12a42db7d21a",
   "metadata": {},
   "outputs": [
    {
     "data": {
      "image/png": "[encoded data removed]",
      "text/plain": [
       "<Figure size 640x480 with 1 Axes>"
      ]
     },
     "metadata": {},
     "output_type": "display_data"
    }
   ],
   "source": [
    "sns.barplot(x = df3.index, y= df3.values, hue = df3.index)  # palette = 'viridis'\n",
    "plt.xticks(rotation = 90)  # rotation = \"vertical\"\n",
    "# xlabel = None\n",
    "plt.show()"
   ]
  },
  {
   "cell_type": "markdown",
   "id": "0a4bab99-7713-4eb1-b845-bcaadded7092",
   "metadata": {},
   "source": [
    "#### Number of homicides by subregion (Asia & Europe) and year."
   ]
  },
  {
   "cell_type": "code",
   "execution_count": 59,
   "id": "d6e92d6f-1662-4420-8592-d222d8927639",
   "metadata": {},
   "outputs": [
    {
     "data": {
      "text/plain": [
       "Year\n",
       "2020    94\n",
       "2019    20\n",
       "2018    13\n",
       "2012    11\n",
       "2017    10\n",
       "2016     9\n",
       "2015     9\n",
       "2009     6\n",
       "2014     5\n",
       "2013     5\n",
       "2011     5\n",
       "2010     3\n",
       "2006     2\n",
       "2007     1\n",
       "2021     1\n",
       "2008     1\n",
       "Name: count, dtype: int64"
      ]
     },
     "execution_count": 59,
     "metadata": {},
     "output_type": "execute_result"
    }
   ],
   "source": [
    "df.Year.value_counts()"
   ]
  },
  {
   "cell_type": "markdown",
   "id": "c5c1f83c-fa6a-49c8-9867-88742f4f0f31",
   "metadata": {},
   "source": [
    "##### df4 = df[df[\"Region\"].isin([\"Asia\", \"Europe\"])]"
   ]
  },
  {
   "cell_type": "code",
   "execution_count": 61,
   "id": "4ec17e2b-7f6b-41e6-b779-6dfa907c96fc",
   "metadata": {},
   "outputs": [
    {
     "data": {
      "text/html": [
       "<div>\n",
       "<style scoped>\n",
       "    .dataframe tbody tr th:only-of-type {\n",
       "        vertical-align: middle;\n",
       "    }\n",
       "\n",
       "    .dataframe tbody tr th {\n",
       "        vertical-align: top;\n",
       "    }\n",
       "\n",
       "    .dataframe thead th {\n",
       "        text-align: right;\n",
       "    }\n",
       "</style>\n",
       "<table border=\"1\" class=\"dataframe\">\n",
       "  <thead>\n",
       "    <tr style=\"text-align: right;\">\n",
       "      <th></th>\n",
       "      <th>Location</th>\n",
       "      <th>Region</th>\n",
       "      <th>Subregion</th>\n",
       "      <th>Rate</th>\n",
       "      <th>Count</th>\n",
       "      <th>Year</th>\n",
       "    </tr>\n",
       "  </thead>\n",
       "  <tbody>\n",
       "    <tr>\n",
       "      <th>0</th>\n",
       "      <td>Afghanistan</td>\n",
       "      <td>Asia</td>\n",
       "      <td>Southern Asia</td>\n",
       "      <td>6</td>\n",
       "      <td>2474</td>\n",
       "      <td>2018</td>\n",
       "    </tr>\n",
       "    <tr>\n",
       "      <th>1</th>\n",
       "      <td>Albania</td>\n",
       "      <td>Europe</td>\n",
       "      <td>Southern Europe</td>\n",
       "      <td>2</td>\n",
       "      <td>61</td>\n",
       "      <td>2020</td>\n",
       "    </tr>\n",
       "    <tr>\n",
       "      <th>3</th>\n",
       "      <td>Andorra</td>\n",
       "      <td>Europe</td>\n",
       "      <td>Southern Europe</td>\n",
       "      <td>2</td>\n",
       "      <td>2</td>\n",
       "      <td>2020</td>\n",
       "    </tr>\n",
       "    <tr>\n",
       "      <th>8</th>\n",
       "      <td>Armenia</td>\n",
       "      <td>Asia</td>\n",
       "      <td>Western Asia</td>\n",
       "      <td>1</td>\n",
       "      <td>52</td>\n",
       "      <td>2020</td>\n",
       "    </tr>\n",
       "    <tr>\n",
       "      <th>11</th>\n",
       "      <td>Austria</td>\n",
       "      <td>Europe</td>\n",
       "      <td>Western Europe</td>\n",
       "      <td>0</td>\n",
       "      <td>65</td>\n",
       "      <td>2020</td>\n",
       "    </tr>\n",
       "    <tr>\n",
       "      <th>...</th>\n",
       "      <td>...</td>\n",
       "      <td>...</td>\n",
       "      <td>...</td>\n",
       "      <td>...</td>\n",
       "      <td>...</td>\n",
       "      <td>...</td>\n",
       "    </tr>\n",
       "    <tr>\n",
       "      <th>183</th>\n",
       "      <td>United Arab Emirates</td>\n",
       "      <td>Asia</td>\n",
       "      <td>Western Asia</td>\n",
       "      <td>0</td>\n",
       "      <td>64</td>\n",
       "      <td>2019</td>\n",
       "    </tr>\n",
       "    <tr>\n",
       "      <th>184</th>\n",
       "      <td>United Kingdom</td>\n",
       "      <td>Europe</td>\n",
       "      <td>Northern Europe</td>\n",
       "      <td>1</td>\n",
       "      <td>755</td>\n",
       "      <td>2018</td>\n",
       "    </tr>\n",
       "    <tr>\n",
       "      <th>189</th>\n",
       "      <td>Uzbekistan</td>\n",
       "      <td>Asia</td>\n",
       "      <td>Central Asia</td>\n",
       "      <td>1</td>\n",
       "      <td>396</td>\n",
       "      <td>2019</td>\n",
       "    </tr>\n",
       "    <tr>\n",
       "      <th>191</th>\n",
       "      <td>Vietnam</td>\n",
       "      <td>Asia</td>\n",
       "      <td>South-Eastern Asia</td>\n",
       "      <td>1</td>\n",
       "      <td>1358</td>\n",
       "      <td>2011</td>\n",
       "    </tr>\n",
       "    <tr>\n",
       "      <th>192</th>\n",
       "      <td>Yemen</td>\n",
       "      <td>Asia</td>\n",
       "      <td>Western Asia</td>\n",
       "      <td>6</td>\n",
       "      <td>1703</td>\n",
       "      <td>2013</td>\n",
       "    </tr>\n",
       "  </tbody>\n",
       "</table>\n",
       "<p>102 rows × 6 columns</p>\n",
       "</div>"
      ],
      "text/plain": [
       "                 Location  Region           Subregion  Rate  Count  Year\n",
       "0             Afghanistan    Asia       Southern Asia     6   2474  2018\n",
       "1                 Albania  Europe     Southern Europe     2     61  2020\n",
       "3                 Andorra  Europe     Southern Europe     2      2  2020\n",
       "8                 Armenia    Asia        Western Asia     1     52  2020\n",
       "11                Austria  Europe      Western Europe     0     65  2020\n",
       "..                    ...     ...                 ...   ...    ...   ...\n",
       "183  United Arab Emirates    Asia        Western Asia     0     64  2019\n",
       "184        United Kingdom  Europe     Northern Europe     1    755  2018\n",
       "189            Uzbekistan    Asia        Central Asia     1    396  2019\n",
       "191               Vietnam    Asia  South-Eastern Asia     1   1358  2011\n",
       "192                 Yemen    Asia        Western Asia     6   1703  2013\n",
       "\n",
       "[102 rows x 6 columns]"
      ]
     },
     "execution_count": 61,
     "metadata": {},
     "output_type": "execute_result"
    }
   ],
   "source": [
    "df4 = df[(df[\"Region\"] == \"Asia\") | (df[\"Region\"] == \"Europe\")]\n",
    "df4"
   ]
  },
  {
   "cell_type": "code",
   "execution_count": 63,
   "id": "b933a536-7ad4-49dd-ad35-d9b80393d2a4",
   "metadata": {},
   "outputs": [
    {
     "data": {
      "text/html": [
       "<div>\n",
       "<style scoped>\n",
       "    .dataframe tbody tr th:only-of-type {\n",
       "        vertical-align: middle;\n",
       "    }\n",
       "\n",
       "    .dataframe tbody tr th {\n",
       "        vertical-align: top;\n",
       "    }\n",
       "\n",
       "    .dataframe thead th {\n",
       "        text-align: right;\n",
       "    }\n",
       "</style>\n",
       "<table border=\"1\" class=\"dataframe\">\n",
       "  <thead>\n",
       "    <tr style=\"text-align: right;\">\n",
       "      <th></th>\n",
       "      <th>Region</th>\n",
       "      <th>Year</th>\n",
       "      <th>Count</th>\n",
       "    </tr>\n",
       "  </thead>\n",
       "  <tbody>\n",
       "    <tr>\n",
       "      <th>0</th>\n",
       "      <td>Asia</td>\n",
       "      <td>2018</td>\n",
       "      <td>2474</td>\n",
       "    </tr>\n",
       "    <tr>\n",
       "      <th>1</th>\n",
       "      <td>Europe</td>\n",
       "      <td>2020</td>\n",
       "      <td>61</td>\n",
       "    </tr>\n",
       "    <tr>\n",
       "      <th>3</th>\n",
       "      <td>Europe</td>\n",
       "      <td>2020</td>\n",
       "      <td>2</td>\n",
       "    </tr>\n",
       "    <tr>\n",
       "      <th>8</th>\n",
       "      <td>Asia</td>\n",
       "      <td>2020</td>\n",
       "      <td>52</td>\n",
       "    </tr>\n",
       "    <tr>\n",
       "      <th>11</th>\n",
       "      <td>Europe</td>\n",
       "      <td>2020</td>\n",
       "      <td>65</td>\n",
       "    </tr>\n",
       "    <tr>\n",
       "      <th>...</th>\n",
       "      <td>...</td>\n",
       "      <td>...</td>\n",
       "      <td>...</td>\n",
       "    </tr>\n",
       "    <tr>\n",
       "      <th>178</th>\n",
       "      <td>Asia</td>\n",
       "      <td>2020</td>\n",
       "      <td>2095</td>\n",
       "    </tr>\n",
       "    <tr>\n",
       "      <th>182</th>\n",
       "      <td>Europe</td>\n",
       "      <td>2017</td>\n",
       "      <td>2751</td>\n",
       "    </tr>\n",
       "    <tr>\n",
       "      <th>183</th>\n",
       "      <td>Asia</td>\n",
       "      <td>2019</td>\n",
       "      <td>64</td>\n",
       "    </tr>\n",
       "    <tr>\n",
       "      <th>184</th>\n",
       "      <td>Europe</td>\n",
       "      <td>2018</td>\n",
       "      <td>755</td>\n",
       "    </tr>\n",
       "    <tr>\n",
       "      <th>189</th>\n",
       "      <td>Asia</td>\n",
       "      <td>2019</td>\n",
       "      <td>396</td>\n",
       "    </tr>\n",
       "  </tbody>\n",
       "</table>\n",
       "<p>83 rows × 3 columns</p>\n",
       "</div>"
      ],
      "text/plain": [
       "     Region  Year  Count\n",
       "0      Asia  2018   2474\n",
       "1    Europe  2020     61\n",
       "3    Europe  2020      2\n",
       "8      Asia  2020     52\n",
       "11   Europe  2020     65\n",
       "..      ...   ...    ...\n",
       "178    Asia  2020   2095\n",
       "182  Europe  2017   2751\n",
       "183    Asia  2019     64\n",
       "184  Europe  2018    755\n",
       "189    Asia  2019    396\n",
       "\n",
       "[83 rows x 3 columns]"
      ]
     },
     "execution_count": 63,
     "metadata": {},
     "output_type": "execute_result"
    }
   ],
   "source": [
    "df4 = df4[df4[\"Year\"]>2016][['Region', 'Year', 'Count']]\n",
    "df4"
   ]
  },
  {
   "cell_type": "code",
   "execution_count": 65,
   "id": "aae7a529-59be-45f1-9256-9e9933c5c2ff",
   "metadata": {},
   "outputs": [
    {
     "data": {
      "text/plain": [
       "Region  Year\n",
       "Asia    2017     1787\n",
       "        2018    16923\n",
       "        2019     6458\n",
       "        2020    53516\n",
       "        2021    15299\n",
       "Europe  2017     3670\n",
       "        2018      883\n",
       "        2019      249\n",
       "        2020    15066\n",
       "Name: Count, dtype: int32"
      ]
     },
     "execution_count": 65,
     "metadata": {},
     "output_type": "execute_result"
    }
   ],
   "source": [
    "df4 = df4.groupby([\"Region\", \"Year\"]).sum()[\"Count\"]\n",
    "df4"
   ]
  },
  {
   "cell_type": "code",
   "execution_count": 67,
   "id": "4801458f-4b32-4427-910e-23f09629e042",
   "metadata": {},
   "outputs": [
    {
     "data": {
      "text/html": [
       "<div>\n",
       "<style scoped>\n",
       "    .dataframe tbody tr th:only-of-type {\n",
       "        vertical-align: middle;\n",
       "    }\n",
       "\n",
       "    .dataframe tbody tr th {\n",
       "        vertical-align: top;\n",
       "    }\n",
       "\n",
       "    .dataframe thead th {\n",
       "        text-align: right;\n",
       "    }\n",
       "</style>\n",
       "<table border=\"1\" class=\"dataframe\">\n",
       "  <thead>\n",
       "    <tr style=\"text-align: right;\">\n",
       "      <th>Region</th>\n",
       "      <th>Asia</th>\n",
       "      <th>Europe</th>\n",
       "    </tr>\n",
       "    <tr>\n",
       "      <th>Year</th>\n",
       "      <th></th>\n",
       "      <th></th>\n",
       "    </tr>\n",
       "  </thead>\n",
       "  <tbody>\n",
       "    <tr>\n",
       "      <th>2017</th>\n",
       "      <td>1787.0</td>\n",
       "      <td>3670.0</td>\n",
       "    </tr>\n",
       "    <tr>\n",
       "      <th>2018</th>\n",
       "      <td>16923.0</td>\n",
       "      <td>883.0</td>\n",
       "    </tr>\n",
       "    <tr>\n",
       "      <th>2019</th>\n",
       "      <td>6458.0</td>\n",
       "      <td>249.0</td>\n",
       "    </tr>\n",
       "    <tr>\n",
       "      <th>2020</th>\n",
       "      <td>53516.0</td>\n",
       "      <td>15066.0</td>\n",
       "    </tr>\n",
       "    <tr>\n",
       "      <th>2021</th>\n",
       "      <td>15299.0</td>\n",
       "      <td>NaN</td>\n",
       "    </tr>\n",
       "  </tbody>\n",
       "</table>\n",
       "</div>"
      ],
      "text/plain": [
       "Region     Asia   Europe\n",
       "Year                    \n",
       "2017     1787.0   3670.0\n",
       "2018    16923.0    883.0\n",
       "2019     6458.0    249.0\n",
       "2020    53516.0  15066.0\n",
       "2021    15299.0      NaN"
      ]
     },
     "execution_count": 67,
     "metadata": {},
     "output_type": "execute_result"
    }
   ],
   "source": [
    "df_unstacked = df4.unstack(level = 0)\n",
    "df_unstacked"
   ]
  },
  {
   "cell_type": "code",
   "execution_count": 64,
   "id": "0687edf4-447d-40e8-bde9-4cebdb73c1ee",
   "metadata": {},
   "outputs": [
    {
     "data": {
      "text/plain": [
       "Index([2017, 2018, 2019, 2020, 2021], dtype='int32', name='Year')"
      ]
     },
     "execution_count": 64,
     "metadata": {},
     "output_type": "execute_result"
    }
   ],
   "source": [
    "df_unstacked.index"
   ]
  },
  {
   "cell_type": "code",
   "execution_count": 66,
   "id": "b39245ad-74ec-421c-be23-b23d8399b569",
   "metadata": {},
   "outputs": [
    {
     "data": {
      "text/plain": [
       "Index(['2017', '2018', '2019', '2020', '2021'], dtype='object', name='Year')"
      ]
     },
     "execution_count": 66,
     "metadata": {},
     "output_type": "execute_result"
    }
   ],
   "source": [
    "df_unstacked.index = df_unstacked.index.astype(str)\n",
    "df_unstacked.index"
   ]
  },
  {
   "cell_type": "code",
   "execution_count": 69,
   "id": "5595003a-494d-497f-b22d-a921b08d8544",
   "metadata": {},
   "outputs": [
    {
     "data": {
      "image/png": "[encoded data removed]",
      "text/plain": [
       "<Figure size 800x600 with 1 Axes>"
      ]
     },
     "metadata": {},
     "output_type": "display_data"
    }
   ],
   "source": [
    "df_unstacked.plot(kind = 'line', figsize = (8, 6))\n",
    "plt.xlabel(\"Year\")\n",
    "plt.ylabel(\"Count\")\n",
    "plt.title(\"Count Of Asia and Europe over years\")\n",
    "plt.show()"
   ]
  },
  {
   "cell_type": "markdown",
   "id": "e81bd117-3a3c-4ef6-82b9-ce21615c0418",
   "metadata": {},
   "source": [
    "#### What is the sum of the homicide rates per year?"
   ]
  },
  {
   "cell_type": "code",
   "execution_count": 73,
   "id": "60d4a144-cb23-4527-8809-1226b4bf1266",
   "metadata": {},
   "outputs": [
    {
     "data": {
      "text/plain": [
       "Year\n",
       "2020    564\n",
       "2019    153\n",
       "2012    113\n",
       "2016     76\n",
       "2018     64\n",
       "2015     55\n",
       "2014     52\n",
       "2009     36\n",
       "2021     28\n",
       "2017     27\n",
       "2013     20\n",
       "2007     19\n",
       "2010     18\n",
       "2006     12\n",
       "2011      8\n",
       "2008      5\n",
       "Name: Rate, dtype: int32"
      ]
     },
     "execution_count": 73,
     "metadata": {},
     "output_type": "execute_result"
    }
   ],
   "source": [
    "df5 = df.groupby([\"Year\"])[\"Rate\"].sum().sort_values(ascending = False)\n",
    "df5"
   ]
  },
  {
   "cell_type": "code",
   "execution_count": 75,
   "id": "d77f96ec-deae-4cef-b0a8-6ed4418a77f8",
   "metadata": {},
   "outputs": [
    {
     "data": {
      "image/png": "[encoded data removed]",
      "text/plain": [
       "<Figure size 700x300 with 1 Axes>"
      ]
     },
     "metadata": {},
     "output_type": "display_data"
    }
   ],
   "source": [
    "df5.plot(kind = 'bar', figsize = (7,3), color = 'skyblue', edgecolor = 'k')\n",
    "plt.xlabel(\"Region, Year\", c = 'm', fontsize=10, fontstyle='oblique')\n",
    "plt.ylabel(\"Sum of Rate\", c = 'm', fontsize=10, fontstyle='oblique')\n",
    "plt.title(\"Sum Of Rate by Region and Years\", c='blue',fontsize=15, fontstyle='italic') # ['normal', 'italic', 'oblique']\n",
    "plt.show()"
   ]
  },
  {
   "cell_type": "markdown",
   "id": "a9c6dbab-5335-4408-8698-808cd93bc524",
   "metadata": {},
   "source": [
    "#### Sum of homicides count by Region and year."
   ]
  },
  {
   "cell_type": "code",
   "execution_count": 42,
   "id": "3616f39c-aa35-45bc-9d4e-181ebb9da945",
   "metadata": {},
   "outputs": [
    {
     "data": {
      "text/html": [
       "<div>\n",
       "<style scoped>\n",
       "    .dataframe tbody tr th:only-of-type {\n",
       "        vertical-align: middle;\n",
       "    }\n",
       "\n",
       "    .dataframe tbody tr th {\n",
       "        vertical-align: top;\n",
       "    }\n",
       "\n",
       "    .dataframe thead th {\n",
       "        text-align: right;\n",
       "    }\n",
       "</style>\n",
       "<table border=\"1\" class=\"dataframe\">\n",
       "  <thead>\n",
       "    <tr style=\"text-align: right;\">\n",
       "      <th></th>\n",
       "      <th></th>\n",
       "      <th>Count</th>\n",
       "    </tr>\n",
       "    <tr>\n",
       "      <th>Year</th>\n",
       "      <th>Region</th>\n",
       "      <th></th>\n",
       "    </tr>\n",
       "  </thead>\n",
       "  <tbody>\n",
       "    <tr>\n",
       "      <th>2021</th>\n",
       "      <th>Asia</th>\n",
       "      <td>15299</td>\n",
       "    </tr>\n",
       "    <tr>\n",
       "      <th rowspan=\"5\" valign=\"top\">2020</th>\n",
       "      <th>Oceania</th>\n",
       "      <td>221</td>\n",
       "    </tr>\n",
       "    <tr>\n",
       "      <th>N/S America</th>\n",
       "      <td>134784</td>\n",
       "    </tr>\n",
       "    <tr>\n",
       "      <th>Europe</th>\n",
       "      <td>15066</td>\n",
       "    </tr>\n",
       "    <tr>\n",
       "      <th>Asia</th>\n",
       "      <td>53516</td>\n",
       "    </tr>\n",
       "    <tr>\n",
       "      <th>Africa</th>\n",
       "      <td>28460</td>\n",
       "    </tr>\n",
       "    <tr>\n",
       "      <th rowspan=\"5\" valign=\"top\">2019</th>\n",
       "      <th>Europe</th>\n",
       "      <td>249</td>\n",
       "    </tr>\n",
       "    <tr>\n",
       "      <th>Africa</th>\n",
       "      <td>44210</td>\n",
       "    </tr>\n",
       "    <tr>\n",
       "      <th>Asia</th>\n",
       "      <td>6458</td>\n",
       "    </tr>\n",
       "    <tr>\n",
       "      <th>N/S America</th>\n",
       "      <td>4276</td>\n",
       "    </tr>\n",
       "    <tr>\n",
       "      <th>Oceania</th>\n",
       "      <td>126</td>\n",
       "    </tr>\n",
       "    <tr>\n",
       "      <th rowspan=\"3\" valign=\"top\">2018</th>\n",
       "      <th>N/S America</th>\n",
       "      <td>13793</td>\n",
       "    </tr>\n",
       "    <tr>\n",
       "      <th>Europe</th>\n",
       "      <td>883</td>\n",
       "    </tr>\n",
       "    <tr>\n",
       "      <th>Asia</th>\n",
       "      <td>16923</td>\n",
       "    </tr>\n",
       "    <tr>\n",
       "      <th rowspan=\"3\" valign=\"top\">2017</th>\n",
       "      <th>Europe</th>\n",
       "      <td>3670</td>\n",
       "    </tr>\n",
       "    <tr>\n",
       "      <th>Asia</th>\n",
       "      <td>1787</td>\n",
       "    </tr>\n",
       "    <tr>\n",
       "      <th>Africa</th>\n",
       "      <td>1467</td>\n",
       "    </tr>\n",
       "    <tr>\n",
       "      <th rowspan=\"4\" valign=\"top\">2016</th>\n",
       "      <th>Asia</th>\n",
       "      <td>627</td>\n",
       "    </tr>\n",
       "    <tr>\n",
       "      <th>N/S America</th>\n",
       "      <td>608</td>\n",
       "    </tr>\n",
       "    <tr>\n",
       "      <th>Europe</th>\n",
       "      <td>0</td>\n",
       "    </tr>\n",
       "    <tr>\n",
       "      <th>Africa</th>\n",
       "      <td>4987</td>\n",
       "    </tr>\n",
       "    <tr>\n",
       "      <th rowspan=\"3\" valign=\"top\">2015</th>\n",
       "      <th>Asia</th>\n",
       "      <td>241</td>\n",
       "    </tr>\n",
       "    <tr>\n",
       "      <th>Africa</th>\n",
       "      <td>2206</td>\n",
       "    </tr>\n",
       "    <tr>\n",
       "      <th>Europe</th>\n",
       "      <td>0</td>\n",
       "    </tr>\n",
       "    <tr>\n",
       "      <th rowspan=\"2\" valign=\"top\">2014</th>\n",
       "      <th>N/S America</th>\n",
       "      <td>13</td>\n",
       "    </tr>\n",
       "    <tr>\n",
       "      <th>Asia</th>\n",
       "      <td>3029</td>\n",
       "    </tr>\n",
       "    <tr>\n",
       "      <th>2013</th>\n",
       "      <th>Asia</th>\n",
       "      <td>5782</td>\n",
       "    </tr>\n",
       "    <tr>\n",
       "      <th rowspan=\"3\" valign=\"top\">2012</th>\n",
       "      <th>Africa</th>\n",
       "      <td>15264</td>\n",
       "    </tr>\n",
       "    <tr>\n",
       "      <th>N/S America</th>\n",
       "      <td>53</td>\n",
       "    </tr>\n",
       "    <tr>\n",
       "      <th>Asia</th>\n",
       "      <td>61</td>\n",
       "    </tr>\n",
       "    <tr>\n",
       "      <th rowspan=\"3\" valign=\"top\">2011</th>\n",
       "      <th>Asia</th>\n",
       "      <td>1626</td>\n",
       "    </tr>\n",
       "    <tr>\n",
       "      <th>Africa</th>\n",
       "      <td>855</td>\n",
       "    </tr>\n",
       "    <tr>\n",
       "      <th>Europe</th>\n",
       "      <td>0</td>\n",
       "    </tr>\n",
       "    <tr>\n",
       "      <th rowspan=\"2\" valign=\"top\">2010</th>\n",
       "      <th>Europe</th>\n",
       "      <td>1</td>\n",
       "    </tr>\n",
       "    <tr>\n",
       "      <th>Africa</th>\n",
       "      <td>303</td>\n",
       "    </tr>\n",
       "    <tr>\n",
       "      <th rowspan=\"2\" valign=\"top\">2009</th>\n",
       "      <th>N/S America</th>\n",
       "      <td>42</td>\n",
       "    </tr>\n",
       "    <tr>\n",
       "      <th>Africa</th>\n",
       "      <td>27</td>\n",
       "    </tr>\n",
       "    <tr>\n",
       "      <th>2008</th>\n",
       "      <th>Africa</th>\n",
       "      <td>1702</td>\n",
       "    </tr>\n",
       "    <tr>\n",
       "      <th>2007</th>\n",
       "      <th>N/S America</th>\n",
       "      <td>26</td>\n",
       "    </tr>\n",
       "    <tr>\n",
       "      <th rowspan=\"2\" valign=\"top\">2006</th>\n",
       "      <th>N/S America</th>\n",
       "      <td>2</td>\n",
       "    </tr>\n",
       "    <tr>\n",
       "      <th>Asia</th>\n",
       "      <td>203</td>\n",
       "    </tr>\n",
       "  </tbody>\n",
       "</table>\n",
       "</div>"
      ],
      "text/plain": [
       "                   Count\n",
       "Year Region             \n",
       "2021 Asia          15299\n",
       "2020 Oceania         221\n",
       "     N/S America  134784\n",
       "     Europe        15066\n",
       "     Asia          53516\n",
       "     Africa        28460\n",
       "2019 Europe          249\n",
       "     Africa        44210\n",
       "     Asia           6458\n",
       "     N/S America    4276\n",
       "     Oceania         126\n",
       "2018 N/S America   13793\n",
       "     Europe          883\n",
       "     Asia          16923\n",
       "2017 Europe         3670\n",
       "     Asia           1787\n",
       "     Africa         1467\n",
       "2016 Asia            627\n",
       "     N/S America     608\n",
       "     Europe            0\n",
       "     Africa         4987\n",
       "2015 Asia            241\n",
       "     Africa         2206\n",
       "     Europe            0\n",
       "2014 N/S America      13\n",
       "     Asia           3029\n",
       "2013 Asia           5782\n",
       "2012 Africa        15264\n",
       "     N/S America      53\n",
       "     Asia             61\n",
       "2011 Asia           1626\n",
       "     Africa          855\n",
       "     Europe            0\n",
       "2010 Europe            1\n",
       "     Africa          303\n",
       "2009 N/S America      42\n",
       "     Africa           27\n",
       "2008 Africa         1702\n",
       "2007 N/S America      26\n",
       "2006 N/S America       2\n",
       "     Asia            203"
      ]
     },
     "execution_count": 42,
     "metadata": {},
     "output_type": "execute_result"
    }
   ],
   "source": [
    "df6 = df[[\"Year\", \"Region\", \"Count\"]]\n",
    "df6 = df6.groupby([\"Year\", \"Region\"]).sum().sort_values(by = \"Year\", ascending = False)\n",
    "df6"
   ]
  },
  {
   "cell_type": "code",
   "execution_count": 43,
   "id": "ac87cf1d-2196-426f-9cfe-66582b28bb9d",
   "metadata": {},
   "outputs": [
    {
     "data": {
      "image/png": "[encoded data removed]",
      "text/plain": [
       "<Figure size 1000x500 with 1 Axes>"
      ]
     },
     "metadata": {},
     "output_type": "display_data"
    }
   ],
   "source": [
    "df6.plot(kind = 'bar', figsize = (10,5), colormap = 'viridis')\n",
    "plt.xlabel(\"Year, Region\", c = 'm', fontsize=10, fontstyle='oblique')\n",
    "plt.ylabel(\"Sum of Count\", c = 'm', fontsize=10, fontstyle='oblique')\n",
    "plt.title(\"Sum Of Count by Year and Region\", c='blue',fontsize=15, fontstyle='italic') # ['normal', 'italic', 'oblique']\n",
    "plt.show()"
   ]
  },
  {
   "cell_type": "markdown",
   "id": "f8d1ef06-6c8e-469e-8f11-0056cb9c7b11",
   "metadata": {},
   "source": [
    "#### Homicide count by subregion."
   ]
  },
  {
   "cell_type": "code",
   "execution_count": 82,
   "id": "ca3f08fe-bc54-4e54-b752-83b16c738720",
   "metadata": {},
   "outputs": [
    {
     "data": {
      "text/plain": [
       "Subregion\n",
       "Southern Asia             6514.56\n",
       "South America             6067.08\n",
       "Central America           5921.38\n",
       "Northern America          4463.40\n",
       "Southern Africa           4295.80\n",
       "Western Africa            4210.73\n",
       "South-Eastern Asia        2531.40\n",
       "Eastern Africa            1577.93\n",
       "Eastern Europe            1460.40\n",
       "Eastern Asia              1223.29\n",
       "Northern Africa           1107.60\n",
       "Middle Africa              619.25\n",
       "Western Asia               581.90\n",
       "Central Asia               281.20\n",
       "Western Europe             230.56\n",
       "Caribbean                  201.48\n",
       "Australia, New Zealand     173.50\n",
       "Northern Europe            139.80\n",
       "Southern Europe             64.29\n",
       "Name: Count, dtype: float64"
      ]
     },
     "execution_count": 82,
     "metadata": {},
     "output_type": "execute_result"
    }
   ],
   "source": [
    "df7 = df.groupby(\"Subregion\")[\"Count\"].mean().sort_values(ascending = False).round(2)\n",
    "df7"
   ]
  },
  {
   "cell_type": "code",
   "execution_count": 45,
   "id": "4afe0c85-a2d7-461e-9391-5cc15ca84f14",
   "metadata": {},
   "outputs": [
    {
     "data": {
      "text/plain": [
       "Index(['Southern Asia', 'South America', 'Central America', 'Northern America',\n",
       "       'Southern Africa', 'Western Africa', 'South-Eastern Asia',\n",
       "       'Eastern Africa', 'Eastern Europe', 'Eastern Asia', 'Northern Africa',\n",
       "       'Middle Africa', 'Western Asia', 'Central Asia', 'Western Europe',\n",
       "       'Caribbean', 'Australia, New Zealand', 'Northern Europe',\n",
       "       'Southern Europe'],\n",
       "      dtype='object', name='Subregion')"
      ]
     },
     "execution_count": 45,
     "metadata": {},
     "output_type": "execute_result"
    }
   ],
   "source": [
    "df7.index"
   ]
  },
  {
   "cell_type": "code",
   "execution_count": 46,
   "id": "daaadcd1-f19d-4a09-bdb1-c54527cd5c18",
   "metadata": {},
   "outputs": [
    {
     "data": {
      "text/plain": [
       "array([6514.56, 6067.08, 5921.38, 4463.4 , 4295.8 , 4210.73, 2531.4 ,\n",
       "       1577.93, 1460.4 , 1223.29, 1107.6 ,  619.25,  581.9 ,  281.2 ,\n",
       "        230.56,  201.48,  173.5 ,  139.8 ,   64.29])"
      ]
     },
     "execution_count": 46,
     "metadata": {},
     "output_type": "execute_result"
    }
   ],
   "source": [
    "df7.values"
   ]
  },
  {
   "cell_type": "code",
   "execution_count": 88,
   "id": "2739e0d3-bf97-4513-95ca-c31e7852afef",
   "metadata": {},
   "outputs": [
    {
     "data": {
      "image/png": "[encoded data removed]",
      "text/plain": [
       "<Figure size 640x480 with 1 Axes>"
      ]
     },
     "metadata": {},
     "output_type": "display_data"
    }
   ],
   "source": [
    "sns.lineplot(x=df7.index, y=df7.values, color = 'darkblue', marker='X', \n",
    "             ms=7, markerfacecolor ='purple', markeredgecolor = 'r')\n",
    "plt.xticks(rotation = \"vertical\")\n",
    "xlabel = None\n",
    "\n",
    "plt.xlabel(\"Category, Subregion\", c = 'm', fontsize=10, fontstyle='oblique')\n",
    "plt.ylabel(\"Average of Count\", c = 'm', fontsize=10, fontstyle='oblique')\n",
    "plt.title(\"Average of Count by Category/Subregion\", c='blue',fontsize=15, fontstyle='italic') # ['normal', 'italic', 'oblique']\n",
    "plt.show()"
   ]
  },
  {
   "cell_type": "code",
   "execution_count": null,
   "id": "845f2018-a141-431b-bc63-c95edff3cd5b",
   "metadata": {},
   "outputs": [],
   "source": []
  }
 ],
 "metadata": {
  "kernelspec": {
   "display_name": "Python 3 (ipykernel)",
   "language": "python",
   "name": "python3"
  },
  "language_info": {
   "codemirror_mode": {
    "name": "ipython",
    "version": 3
   },
   "file_extension": ".py",
   "mimetype": "text/x-python",
   "name": "python",
   "nbconvert_exporter": "python",
   "pygments_lexer": "ipython3",
   "version": "3.12.4"
  }
 },
 "nbformat": 4,
 "nbformat_minor": 5
}
